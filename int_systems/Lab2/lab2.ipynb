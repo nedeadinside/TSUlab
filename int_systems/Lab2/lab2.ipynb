{
  "cells": [
    {
      "cell_type": "code",
      "execution_count": 126,
      "metadata": {
        "id": "OrH5W5gC1v8s"
      },
      "outputs": [],
      "source": [
        "import random as r\n",
        "import itertools"
      ]
    },
    {
      "cell_type": "code",
      "execution_count": 127,
      "metadata": {},
      "outputs": [],
      "source": [
        "class Bacteria:\n",
        "    def __init__(self, R=True, G=True, B=True, target=[96, 96, 159]):\n",
        "        if not all([R, G, B]):\n",
        "            self.__R = r.randint(0, 256)\n",
        "            self.__G = r.randint(0, 256)\n",
        "            self.__B = r.randint(0, 256)\n",
        "        else:\n",
        "            self.__R = R\n",
        "            self.__G = G\n",
        "            self.__B = B\n",
        "        \n",
        "        self.__RT = target[0]\n",
        "        self.__GT = target[1]\n",
        "        self.__BT = target[2]\n",
        "            \n",
        "        self.__pm = 0.7\n",
        "        \n",
        "        \n",
        "    def _evaluete(self):\n",
        "        return ((self.__RT - self.__R) ** 2 + (self.__GT - self.__G) ** 2 + (self.__BT - self.__B) ** 2) ** .5\n",
        "\n",
        "    \n",
        "    def __add__(self, other):\n",
        "        gen = r.randint(0, 2)\n",
        "        \n",
        "        genom_1 = self()\n",
        "        genom_2 = other()\n",
        "        \n",
        "        gen_1 = genom_1.pop(gen)\n",
        "        gen_2 = genom_2.pop(gen)\n",
        "        \n",
        "        new_gen = int(\"{0:b}\".format(gen_1).zfill(4)[:4] + \"{0:b}\".format(gen_2).zfill(8)[4:8], 2)\n",
        "        combinations = [list(comb) for comb in itertools.product(genom_1, genom_2)]\n",
        "        \n",
        "        mutated_bact = []\n",
        "        for comb in combinations:\n",
        "            comb_c = comb.copy()\n",
        "            if self.__pm > r.random():\n",
        "                mutated_index = r.randint(0, 1)\n",
        "                mutated = \"{0:b}\".format(comb[mutated_index]).zfill(8)\n",
        "                \n",
        "                bit_indices = r.sample(range(len(mutated)), r.randint(4, 8))\n",
        "                inverted_num = ''.join([str((int(bit, 2) + 1) % 2) if i in bit_indices else bit for i, bit in enumerate(mutated)]) \n",
        "                \n",
        "                comb_c[mutated_index] = int(inverted_num, 2)\n",
        "            mutated_bact.append(comb_c)\n",
        "            \n",
        "        final_out = []\n",
        "        for comb in mutated_bact:\n",
        "            comb_c = comb.copy()\n",
        "            comb_c.insert(gen, new_gen)\n",
        "            \n",
        "            final_out.append(comb_c)\n",
        "        \n",
        "        return [Bacteria(*i, target=[self.__RT, self.__GT, self.__BT]) for i in final_out]\n",
        "    \n",
        "    \n",
        "    def __gt__(self, other):\n",
        "        return self._evaluete() < other._evaluete()\n",
        "\n",
        "\n",
        "    def __call__(self):\n",
        "        return [self.__R, self.__G, self.__B]"
      ]
    },
    {
      "cell_type": "code",
      "execution_count": 128,
      "metadata": {},
      "outputs": [],
      "source": [
        "def tournament_selection(population):\n",
        "    selected_parents = []\n",
        "    \n",
        "    for _ in range(len(population) // 3):\n",
        "        top = min(r.sample(population, 4), key=Bacteria._evaluete)\n",
        "        selected_parents.append(top)\n",
        "\n",
        "    return selected_parents"
      ]
    },
    {
      "cell_type": "code",
      "execution_count": 129,
      "metadata": {},
      "outputs": [],
      "source": [
        "def top_fitness(population):\n",
        "    return sorted([round(x._evaluete(), 3) for x in population])[:3]"
      ]
    },
    {
      "cell_type": "code",
      "execution_count": 130,
      "metadata": {},
      "outputs": [
        {
          "name": "stdout",
          "output_type": "stream",
          "text": [
            "Epoch = 20 \n",
            "Top Fitness: [4.359, 4.359, 5.099]\n",
            "Epoch = 40 \n",
            "Top Fitness: [1.732, 1.732, 1.732]\n",
            "Epoch = 60 \n",
            "Top Fitness: [1.414, 1.414, 1.414]\n",
            "Epoch = 80 \n",
            "Top Fitness: [1.0, 1.0, 1.0]\n",
            "Epoch = 100 \n",
            "Top Fitness: [1.0, 1.0, 1.0]\n",
            "Epoch = 120 \n",
            "Top Fitness: [1.0, 1.0, 1.0]\n",
            "Epoch = 140 \n",
            "Top Fitness: [1.0, 1.0, 1.0]\n",
            "Epoch = 160 \n",
            "Top Fitness: [1.0, 1.0, 1.0]\n",
            "Epoch = 180 \n",
            "Top Fitness: [1.0, 1.0, 1.0]\n",
            "Epoch = 200 \n",
            "Top Fitness: [1.0, 1.0, 1.0]\n",
            "Epoch = 220 \n",
            "Top Fitness: [1.0, 1.0, 1.0]\n",
            "Epoch = 240 \n",
            "Top Fitness: [1.0, 1.0, 1.0]\n",
            "Epoch = 260 \n",
            "Top Fitness: [1.0, 1.0, 1.0]\n",
            "Epoch = 280, Finded = [96, 96, 159]\n"
          ]
        }
      ],
      "source": [
        "len_start_prop = 80\n",
        "start_pop = [Bacteria(target=[96, 96, 159]) for i in range(len_start_prop)]\n",
        "selected = tournament_selection(start_pop)\n",
        "\n",
        "counter = 0\n",
        "\n",
        "while True:\n",
        "    counter += 1\n",
        "    \n",
        "    for prop in selected:\n",
        "        if prop._evaluete() == 0:\n",
        "            print(f\"Epoch = {counter}, Finded = {prop()}\")\n",
        "            break\n",
        "    else:\n",
        "        new_pop = []\n",
        "        for i in range(len(selected)):\n",
        "            if 0.6 > r.random():\n",
        "                new_pop.extend(selected[i-1] + selected[i])\n",
        "            else:\n",
        "                new_pop.append(selected[i-1])\n",
        "                new_pop.append(selected[i])\n",
        "\n",
        "        selected = tournament_selection(new_pop)\n",
        "        if counter % 20 == 0 and counter != 0:\n",
        "            print(f\"Epoch = {counter}\", f\"\\nTop Fitness: {top_fitness(selected)}\")\n",
        "            selected = sorted(selected, key=Bacteria._evaluete)[:len_start_prop]\n",
        "        continue\n",
        "    break"
      ]
    }
  ],
  "metadata": {
    "colab": {
      "provenance": []
    },
    "kernelspec": {
      "display_name": "Python 3",
      "name": "python3"
    },
    "language_info": {
      "codemirror_mode": {
        "name": "ipython",
        "version": 3
      },
      "file_extension": ".py",
      "mimetype": "text/x-python",
      "name": "python",
      "nbconvert_exporter": "python",
      "pygments_lexer": "ipython3",
      "version": "3.12.1"
    }
  },
  "nbformat": 4,
  "nbformat_minor": 0
}
