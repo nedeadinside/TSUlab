{
  "cells": [
    {
      "cell_type": "code",
      "execution_count": null,
      "metadata": {
        "id": "OrH5W5gC1v8s"
      },
      "outputs": [],
      "source": [
        "import random as r\n",
        "import itertools"
      ]
    },
    {
      "cell_type": "code",
      "execution_count": null,
      "metadata": {},
      "outputs": [],
      "source": [
        "class Bacteria:\n",
        "    def __init__(self, R=-1, G=-1, B=-1, target=[96, 96, 159]):\n",
        "        if R == G == B == -1:\n",
        "            self.__R = r.randint(0, 256)\n",
        "            self.__G = r.randint(0, 256)\n",
        "            self.__B = r.randint(0, 256)\n",
        "        else:\n",
        "            self.__R = R\n",
        "            self.__G = G\n",
        "            self.__B = B\n",
        "        \n",
        "        self.__RT = target[0]\n",
        "        self.__GT = target[1]\n",
        "        self.__BT = target[2]\n",
        "            \n",
        "        self.__pm = 0.4\n",
        "            \n",
        "        \n",
        "    def _evaluete(self):\n",
        "        \"\"\"Считаем насколько данная особь соответствует таргету\"\"\"\n",
        "        return ((self.__RT - self.__R) ** 2 + (self.__GT - self.__G) ** 2 + (self.__BT - self.__B) ** 2) ** .5\n",
        "    \n",
        "    \n",
        "    def __add__(self, other):\n",
        "        \"\"\"Перегрузка будет скрещивать 2 объекта класса Bacteria и возвращать 2х особей потомка с помощью\n",
        "        одноточечного кроссовера\"\"\"\n",
        "        \n",
        "        gen = r.randint(0, 2)\n",
        "        \n",
        "        genom_1 = self()\n",
        "        genom_2 = other()\n",
        "        \n",
        "        gen_1 = genom_1.pop(gen)\n",
        "        gen_2 = genom_2.pop(gen)\n",
        "        \n",
        "        new_gen = int(\"{0:b}\".format(gen_1).zfill(4)[:4] + \"{0:b}\".format(gen_2).zfill(8)[4:8], 2) + r.randint(0,1)\n",
        "        combinations = [list(comb) for comb in itertools.product(genom_1, genom_2)]\n",
        "        \n",
        "        \n",
        "        mutated_bact = []\n",
        "        for comb in combinations:\n",
        "            comb_c = comb.copy()\n",
        "            if r.random() < self.__pm:\n",
        "                mutated_index = r.randint(0, 1)\n",
        "                mutated = \"{0:b}\".format(comb[mutated_index]).zfill(8)\n",
        "                \n",
        "                bit_indices = r.sample(range(len(mutated)), 3)\n",
        "                inverted_num = ''.join([str((int(bit, 2) + 1) % 2) if i in bit_indices else bit for i, bit in enumerate(mutated)]) \n",
        "                \n",
        "                comb_c[mutated_index] = int(inverted_num, 2) + r.randint(0,1)\n",
        "                \n",
        "            mutated_bact.append(comb_c)\n",
        "        mutated_bact = combinations\n",
        "        final_out = []\n",
        "        for comb in mutated_bact:\n",
        "            comb_c = comb.copy()\n",
        "            comb_c.insert(gen, new_gen)\n",
        "            \n",
        "            final_out.append(comb_c)\n",
        "        \n",
        "        return [Bacteria(*i) for i in final_out]\n",
        "    \n",
        "        \n",
        "    # Перегружаем больше, возвращаем меньше, да я\n",
        "    def __gt__(self, other):\n",
        "        return self._evaluete() < other._evaluete()\n",
        "    \n",
        "    \n",
        "    def __call__(self):\n",
        "        return [self.__R, self.__G, self.__B]\n",
        "    \n",
        "    \n",
        "    def __eq__(self, other):\n",
        "        return self.__R == other.__R and self.__G == other.__G and self.__B == other.__B"
      ]
    },
    {
      "cell_type": "code",
      "execution_count": null,
      "metadata": {},
      "outputs": [],
      "source": [
        "# у нас будет турнирная селекция, \n",
        "def binary_tournament_selection(population):\n",
        "    selected_parents = []\n",
        "    \n",
        "    for _ in range(len(population)):\n",
        "        candidate_1, candidate_2 = r.sample(population, 2)\n",
        "        \n",
        "        if  candidate_1 > candidate_2:\n",
        "            if candidate_1 not in selected_parents:\n",
        "                selected_parents.append(candidate_1)\n",
        "        else:\n",
        "            if candidate_2 not in selected_parents:\n",
        "                selected_parents.append(candidate_2)\n",
        "    return selected_parents"
      ]
    },
    {
      "cell_type": "code",
      "execution_count": null,
      "metadata": {},
      "outputs": [],
      "source": [
        "def top_fitness(population):\n",
        "    x = [x._evaluete() for x in population]\n",
        "    return sorted(x)[:3]"
      ]
    },
    {
      "cell_type": "code",
      "execution_count": null,
      "metadata": {},
      "outputs": [],
      "source": [
        "x = Bacteria(1, 1, 1)\n",
        "y = Bacteria(1, 1, 1)"
      ]
    },
    {
      "cell_type": "code",
      "execution_count": null,
      "metadata": {},
      "outputs": [
        {
          "ename": "KeyboardInterrupt",
          "evalue": "",
          "output_type": "error",
          "traceback": [
            "\u001b[1;31m---------------------------------------------------------------------------\u001b[0m",
            "\u001b[1;31mKeyboardInterrupt\u001b[0m                         Traceback (most recent call last)",
            "Cell \u001b[1;32mIn[192], line 18\u001b[0m\n\u001b[0;32m     16\u001b[0m \u001b[38;5;28;01mfor\u001b[39;00m i \u001b[38;5;129;01min\u001b[39;00m \u001b[38;5;28mrange\u001b[39m(\u001b[38;5;241m0\u001b[39m, \u001b[38;5;28mlen\u001b[39m(selected)):\n\u001b[0;32m     17\u001b[0m     \u001b[38;5;28;01mif\u001b[39;00m \u001b[38;5;241m0.4\u001b[39m \u001b[38;5;241m>\u001b[39m r\u001b[38;5;241m.\u001b[39mrandom():\n\u001b[1;32m---> 18\u001b[0m         new_pop\u001b[38;5;241m.\u001b[39mextend(\u001b[43mselected\u001b[49m\u001b[43m[\u001b[49m\u001b[43mi\u001b[49m\u001b[38;5;241;43m-\u001b[39;49m\u001b[38;5;241;43m1\u001b[39;49m\u001b[43m]\u001b[49m\u001b[43m \u001b[49m\u001b[38;5;241;43m+\u001b[39;49m\u001b[43m \u001b[49m\u001b[43mselected\u001b[49m\u001b[43m[\u001b[49m\u001b[43mi\u001b[49m\u001b[43m]\u001b[49m)\n\u001b[0;32m     19\u001b[0m     \u001b[38;5;28;01melse\u001b[39;00m:\n\u001b[0;32m     20\u001b[0m         new_pop\u001b[38;5;241m.\u001b[39mappend(selected[i\u001b[38;5;241m-\u001b[39m\u001b[38;5;241m1\u001b[39m])\n",
            "Cell \u001b[1;32mIn[188], line 50\u001b[0m, in \u001b[0;36mBacteria.__add__\u001b[1;34m(self, other)\u001b[0m\n\u001b[0;32m     47\u001b[0m         bit_indices \u001b[38;5;241m=\u001b[39m r\u001b[38;5;241m.\u001b[39msample(\u001b[38;5;28mrange\u001b[39m(\u001b[38;5;28mlen\u001b[39m(mutated)), \u001b[38;5;241m3\u001b[39m)\n\u001b[0;32m     48\u001b[0m         inverted_num \u001b[38;5;241m=\u001b[39m \u001b[38;5;124m'\u001b[39m\u001b[38;5;124m'\u001b[39m\u001b[38;5;241m.\u001b[39mjoin([\u001b[38;5;28mstr\u001b[39m((\u001b[38;5;28mint\u001b[39m(bit, \u001b[38;5;241m2\u001b[39m) \u001b[38;5;241m+\u001b[39m \u001b[38;5;241m1\u001b[39m) \u001b[38;5;241m%\u001b[39m \u001b[38;5;241m2\u001b[39m) \u001b[38;5;28;01mif\u001b[39;00m i \u001b[38;5;129;01min\u001b[39;00m bit_indices \u001b[38;5;28;01melse\u001b[39;00m bit \u001b[38;5;28;01mfor\u001b[39;00m i, bit \u001b[38;5;129;01min\u001b[39;00m \u001b[38;5;28menumerate\u001b[39m(mutated)]) \n\u001b[1;32m---> 50\u001b[0m         comb_c[mutated_index] \u001b[38;5;241m=\u001b[39m \u001b[38;5;28mint\u001b[39m(inverted_num, \u001b[38;5;241m2\u001b[39m) \u001b[38;5;241m+\u001b[39m \u001b[43mr\u001b[49m\u001b[38;5;241;43m.\u001b[39;49m\u001b[43mrandint\u001b[49m\u001b[43m(\u001b[49m\u001b[38;5;241;43m0\u001b[39;49m\u001b[43m,\u001b[49m\u001b[38;5;241;43m1\u001b[39;49m\u001b[43m)\u001b[49m\n\u001b[0;32m     52\u001b[0m     mutated_bact\u001b[38;5;241m.\u001b[39mappend(comb_c)\n\u001b[0;32m     53\u001b[0m mutated_bact \u001b[38;5;241m=\u001b[39m combinations\n",
            "File \u001b[1;32mc:\\Users\\matve\\AppData\\Local\\Programs\\Python\\Python312\\Lib\\random.py:336\u001b[0m, in \u001b[0;36mRandom.randint\u001b[1;34m(self, a, b)\u001b[0m\n\u001b[0;32m    332\u001b[0m \u001b[38;5;28;01mdef\u001b[39;00m \u001b[38;5;21mrandint\u001b[39m(\u001b[38;5;28mself\u001b[39m, a, b):\n\u001b[0;32m    333\u001b[0m \u001b[38;5;250m    \u001b[39m\u001b[38;5;124;03m\"\"\"Return random integer in range [a, b], including both end points.\u001b[39;00m\n\u001b[0;32m    334\u001b[0m \u001b[38;5;124;03m    \"\"\"\u001b[39;00m\n\u001b[1;32m--> 336\u001b[0m     \u001b[38;5;28;01mreturn\u001b[39;00m \u001b[38;5;28;43mself\u001b[39;49m\u001b[38;5;241;43m.\u001b[39;49m\u001b[43mrandrange\u001b[49m\u001b[43m(\u001b[49m\u001b[43ma\u001b[49m\u001b[43m,\u001b[49m\u001b[43m \u001b[49m\u001b[43mb\u001b[49m\u001b[38;5;241;43m+\u001b[39;49m\u001b[38;5;241;43m1\u001b[39;49m\u001b[43m)\u001b[49m\n",
            "File \u001b[1;32mc:\\Users\\matve\\AppData\\Local\\Programs\\Python\\Python312\\Lib\\random.py:301\u001b[0m, in \u001b[0;36mRandom.randrange\u001b[1;34m(self, start, stop, step)\u001b[0m\n\u001b[0;32m    292\u001b[0m \u001b[38;5;250m\u001b[39m\u001b[38;5;124;03m\"\"\"Choose a random item from range(stop) or range(start, stop[, step]).\u001b[39;00m\n\u001b[0;32m    293\u001b[0m \n\u001b[0;32m    294\u001b[0m \u001b[38;5;124;03mRoughly equivalent to ``choice(range(start, stop, step))`` but\u001b[39;00m\n\u001b[0;32m    295\u001b[0m \u001b[38;5;124;03msupports arbitrarily large ranges and is optimized for common cases.\u001b[39;00m\n\u001b[0;32m    296\u001b[0m \n\u001b[0;32m    297\u001b[0m \u001b[38;5;124;03m\"\"\"\u001b[39;00m\n\u001b[0;32m    299\u001b[0m \u001b[38;5;66;03m# This code is a bit messy to make it fast for the\u001b[39;00m\n\u001b[0;32m    300\u001b[0m \u001b[38;5;66;03m# common case while still doing adequate error checking.\u001b[39;00m\n\u001b[1;32m--> 301\u001b[0m istart \u001b[38;5;241m=\u001b[39m \u001b[43m_index\u001b[49m\u001b[43m(\u001b[49m\u001b[43mstart\u001b[49m\u001b[43m)\u001b[49m\n\u001b[0;32m    302\u001b[0m \u001b[38;5;28;01mif\u001b[39;00m stop \u001b[38;5;129;01mis\u001b[39;00m \u001b[38;5;28;01mNone\u001b[39;00m:\n\u001b[0;32m    303\u001b[0m     \u001b[38;5;66;03m# We don't check for \"step != 1\" because it hasn't been\u001b[39;00m\n\u001b[0;32m    304\u001b[0m     \u001b[38;5;66;03m# type checked and converted to an integer yet.\u001b[39;00m\n\u001b[0;32m    305\u001b[0m     \u001b[38;5;28;01mif\u001b[39;00m step \u001b[38;5;129;01mis\u001b[39;00m \u001b[38;5;129;01mnot\u001b[39;00m _ONE:\n",
            "\u001b[1;31mKeyboardInterrupt\u001b[0m: "
          ]
        }
      ],
      "source": [
        "start_pop = [Bacteria() for i in range(200)]\n",
        "len_start_prop = len(start_pop)\n",
        "selected = binary_tournament_selection(start_pop)\n",
        "target = Bacteria(96, 96, 159)\n",
        "\n",
        "counter = 0\n",
        "flag = False\n",
        "while not flag:\n",
        "    counter += 1\n",
        "    for prop in selected:\n",
        "        if prop == target:\n",
        "            print(prop(), counter)\n",
        "            flag = True\n",
        "            break\n",
        "    new_pop = []\n",
        "    for i in range(0, len(selected)):\n",
        "        if 0.4 > r.random():\n",
        "            new_pop.extend(selected[i-1] + selected[i])\n",
        "        else:\n",
        "            new_pop.append(selected[i-1])\n",
        "            new_pop.append(selected[i])\n",
        "\n",
        "    new_pop.sort(key=Bacteria._evaluete)\n",
        "    # selected = binary_tournament_selection(new_pop)\n",
        "    selected = new_pop[:len_start_prop]\n"
      ]
    },
    {
      "cell_type": "code",
      "execution_count": null,
      "metadata": {},
      "outputs": [],
      "source": []
    }
  ],
  "metadata": {
    "colab": {
      "provenance": []
    },
    "kernelspec": {
      "display_name": "Python 3",
      "name": "python3"
    },
    "language_info": {
      "codemirror_mode": {
        "name": "ipython",
        "version": 3
      },
      "file_extension": ".py",
      "mimetype": "text/x-python",
      "name": "python",
      "nbconvert_exporter": "python",
      "pygments_lexer": "ipython3",
      "version": "3.12.1"
    }
  },
  "nbformat": 4,
  "nbformat_minor": 0
}
