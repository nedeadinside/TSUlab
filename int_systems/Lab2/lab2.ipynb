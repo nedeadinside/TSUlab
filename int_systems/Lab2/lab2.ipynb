{
  "cells": [
    {
      "cell_type": "code",
      "execution_count": 710,
      "metadata": {
        "id": "OrH5W5gC1v8s"
      },
      "outputs": [],
      "source": [
        "import random as r\n",
        "import itertools"
      ]
    },
    {
      "cell_type": "code",
      "execution_count": 711,
      "metadata": {},
      "outputs": [],
      "source": [
        "class Bacteria:\n",
        "    def __init__(self, R=-1, G=-1, B=-1, target=[96, 96, 159]):\n",
        "        if R == G == B == -1:\n",
        "            self.__R = r.randint(0, 256)\n",
        "            self.__G = r.randint(0, 256)\n",
        "            self.__B = r.randint(0, 256)\n",
        "        else:\n",
        "            self.__R = R\n",
        "            self.__G = G\n",
        "            self.__B = B\n",
        "        \n",
        "        self.__RT = target[0]\n",
        "        self.__GT = target[1]\n",
        "        self.__BT = target[2]\n",
        "            \n",
        "        self.__pm = 0.7\n",
        "            \n",
        "        \n",
        "    def _evaluete(self):\n",
        "        \"\"\"Считаем насколько данная особь соответствует таргету\"\"\"\n",
        "        return ((self.__RT - self.__R) ** 2 + (self.__GT - self.__G) ** 2 + (self.__BT - self.__B) ** 2) ** .5\n",
        "    \n",
        "    \n",
        "    def __add__(self, other):\n",
        "        \"\"\"Перегрузка будет скрещивать 2 объекта класса Bacteria и возвращать 4х особей потомка с помощью\n",
        "        одноточечного кроссовера и мутации))))\"\"\"\n",
        "        \n",
        "        gen = r.randint(0, 2)\n",
        "        \n",
        "        genom_1 = self()\n",
        "        genom_2 = other()\n",
        "        \n",
        "        gen_1 = genom_1.pop(gen)\n",
        "        gen_2 = genom_2.pop(gen)\n",
        "        \n",
        "        new_gen = int(\"{0:b}\".format(gen_1).zfill(4)[:4] + \"{0:b}\".format(gen_2).zfill(8)[4:8], 2)\n",
        "        combinations = [list(comb) for comb in itertools.product(genom_1, genom_2)]\n",
        "        \n",
        "        mutated_bact = []\n",
        "        for comb in combinations:\n",
        "            comb_c = comb.copy()\n",
        "            if self.__pm > r.random() :\n",
        "                mutated_index = r.randint(0, 1)\n",
        "                mutated = \"{0:b}\".format(comb[mutated_index]).zfill(8)\n",
        "                \n",
        "                bit_indices = r.sample(range(len(mutated)), 6)\n",
        "                inverted_num = ''.join([str((int(bit, 2) + 1) % 2) if i in bit_indices else bit for i, bit in enumerate(mutated)]) \n",
        "                \n",
        "                comb_c[mutated_index] = int(inverted_num, 2)\n",
        "            mutated_bact.append(comb_c)\n",
        "            \n",
        "        final_out = []\n",
        "        for comb in mutated_bact:\n",
        "            comb_c = comb.copy()\n",
        "            comb_c.insert(gen, new_gen)\n",
        "            \n",
        "            final_out.append(comb_c)\n",
        "        \n",
        "        return [Bacteria(*i) for i in final_out]\n",
        "    \n",
        "        \n",
        "    # Перегружаем больше, возвращаем меньше, да я\n",
        "    def __gt__(self, other):\n",
        "        return self._evaluete() < other._evaluete()\n",
        "    \n",
        "    \n",
        "    def __call__(self):\n",
        "        return [self.__R, self.__G, self.__B]\n",
        "    \n",
        "    \n",
        "    def __eq__(self, other):\n",
        "        return self.__R == other.__R and self.__G == other.__G and self.__B == other.__B"
      ]
    },
    {
      "cell_type": "code",
      "execution_count": 712,
      "metadata": {},
      "outputs": [],
      "source": [
        "# у нас будет турнирная селекция, \n",
        "def tournament_selection(population):\n",
        "    selected_parents = []\n",
        "    \n",
        "    for _ in range(len(population) // 3):\n",
        "        candidate_1, candidate_2, candidate_3, candidate_4 = r.sample(population, 4)\n",
        "        top = min(candidate_1, candidate_2, candidate_3, candidate_4, key=Bacteria._evaluete)\n",
        "        selected_parents.append(top)\n",
        "\n",
        "    return selected_parents"
      ]
    },
    {
      "cell_type": "code",
      "execution_count": 713,
      "metadata": {},
      "outputs": [],
      "source": [
        "def top_fitness(population):\n",
        "    x = [x._evaluete() for x in population]\n",
        "    return sorted(x)[:3]"
      ]
    },
    {
      "cell_type": "code",
      "execution_count": 714,
      "metadata": {},
      "outputs": [
        {
          "name": "stdout",
          "output_type": "stream",
          "text": [
            "[96, 96, 159] 28\n"
          ]
        }
      ],
      "source": [
        "start_pop = [Bacteria() for i in range(80)]\n",
        "len_start_prop = len(start_pop)\n",
        "selected = tournament_selection(start_pop)\n",
        "target = Bacteria(96, 96, 159)\n",
        "\n",
        "counter = 0\n",
        "flag = False\n",
        "while not flag:\n",
        "    counter += 1\n",
        "    \n",
        "    new_pop = []\n",
        "    for i in range(len(selected)):\n",
        "        if 0.6 > r.random():\n",
        "            new_pop.extend(selected[i-1] + selected[i])\n",
        "        else:\n",
        "            new_pop.append(selected[i-1])\n",
        "            new_pop.append(selected[i])\n",
        "    \n",
        "    for prop in selected:\n",
        "        if prop == target:\n",
        "            print(prop(), counter)\n",
        "            flag = True\n",
        "            break\n",
        "    \n",
        "    selected = tournament_selection(new_pop)\n",
        "    if i % 10 == 0 and i != 0:\n",
        "        selected = sorted(selected, key=Bacteria._evaluete)[:len_start_prop] \n"
      ]
    },
    {
      "cell_type": "code",
      "execution_count": null,
      "metadata": {},
      "outputs": [],
      "source": []
    }
  ],
  "metadata": {
    "colab": {
      "provenance": []
    },
    "kernelspec": {
      "display_name": "Python 3",
      "name": "python3"
    },
    "language_info": {
      "codemirror_mode": {
        "name": "ipython",
        "version": 3
      },
      "file_extension": ".py",
      "mimetype": "text/x-python",
      "name": "python",
      "nbconvert_exporter": "python",
      "pygments_lexer": "ipython3",
      "version": "3.12.1"
    }
  },
  "nbformat": 4,
  "nbformat_minor": 0
}
